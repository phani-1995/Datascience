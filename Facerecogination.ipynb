{
 "cells": [
  {
   "cell_type": "code",
   "execution_count": 3,
   "metadata": {},
   "outputs": [
    {
     "name": "stdout",
     "output_type": "stream",
     "text": [
      "tracking <tf.Variable 'Variable_5:0' shape=(9, 4) dtype=float32> anchors\n",
      "tracking <tf.Variable 'Variable_6:0' shape=(9, 4) dtype=float32> anchors\n",
      "tracking <tf.Variable 'Variable_7:0' shape=(9, 4) dtype=float32> anchors\n",
      "tracking <tf.Variable 'Variable_8:0' shape=(9, 4) dtype=float32> anchors\n",
      "tracking <tf.Variable 'Variable_9:0' shape=(9, 4) dtype=float32> anchors\n",
      "cell phone  :  50.924599170684814\n",
      "cup  :  70.28475999832153\n",
      "oven  :  59.94548201560974\n",
      "keyboard  :  86.99867725372314\n",
      "tv  :  82.85690546035767\n",
      "tv  :  89.86165523529053\n",
      "potted plant  :  56.198328733444214\n"
     ]
    }
   ],
   "source": [
    "from imageai.Detection import ObjectDetection\n",
    "\n",
    "import os\n",
    "\n",
    "\n",
    "\n",
    "execution_path = os.getcwd()\n",
    "\n",
    "\n",
    "\n",
    "detector = ObjectDetection()\n",
    "\n",
    "detector.setModelTypeAsRetinaNet()\n",
    "\n",
    "detector.setModelPath( os.path.join(execution_path , \"C:/Users/p#an!/Desktop/DL/model/resnet50_coco_best_v2.0.1.h5\"))\n",
    "\n",
    "detector.loadModel()\n",
    "\n",
    "detections = detector.detectObjectsFromImage(input_image=os.path.join(execution_path , \"D:\\\\projects\\\\DEEP LEARNING\\\\input\\\\img2.jpg\"), output_image_path=os.path.join(execution_path , \"D:\\\\projects\\\\DEEP LEARNING\\\\output\\\\img22.png\"))\n",
    "\n",
    "\n",
    "\n",
    "for eachObject in detections:\n",
    "\n",
    "    print(eachObject[\"name\"] , \" : \" , eachObject[\"percentage_probability\"] )"
   ]
  },
  {
   "cell_type": "code",
   "execution_count": null,
   "metadata": {},
   "outputs": [],
   "source": []
  },
  {
   "cell_type": "code",
   "execution_count": null,
   "metadata": {},
   "outputs": [],
   "source": []
  }
 ],
 "metadata": {
  "kernelspec": {
   "display_name": "Python 3",
   "language": "python",
   "name": "python3"
  },
  "language_info": {
   "codemirror_mode": {
    "name": "ipython",
    "version": 3
   },
   "file_extension": ".py",
   "mimetype": "text/x-python",
   "name": "python",
   "nbconvert_exporter": "python",
   "pygments_lexer": "ipython3",
   "version": "3.7.4"
  }
 },
 "nbformat": 4,
 "nbformat_minor": 2
}
