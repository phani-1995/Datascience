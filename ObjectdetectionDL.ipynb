{
 "cells": [
  {
   "cell_type": "code",
   "execution_count": 10,
   "metadata": {},
   "outputs": [
    {
     "name": "stdout",
     "output_type": "stream",
     "text": [
      "tracking <tf.Variable 'Variable_35:0' shape=(9, 4) dtype=float32> anchors\n",
      "tracking <tf.Variable 'Variable_36:0' shape=(9, 4) dtype=float32> anchors\n",
      "tracking <tf.Variable 'Variable_37:0' shape=(9, 4) dtype=float32> anchors\n",
      "tracking <tf.Variable 'Variable_38:0' shape=(9, 4) dtype=float32> anchors\n",
      "tracking <tf.Variable 'Variable_39:0' shape=(9, 4) dtype=float32> anchors\n",
      "person  :  56.95701241493225\n",
      "person  :  52.80916094779968\n",
      "person  :  70.20384073257446\n",
      "person  :  76.8346905708313\n",
      "person  :  78.70020270347595\n",
      "bicycle  :  79.7773540019989\n",
      "person  :  83.55740308761597\n",
      "person  :  89.43805694580078\n",
      "truck  :  60.933053493499756\n",
      "person  :  69.5263147354126\n",
      "bus  :  98.00647497177124\n",
      "truck  :  83.69444608688354\n",
      "car  :  71.70087695121765\n"
     ]
    }
   ],
   "source": [
    "from imageai.Detection import ObjectDetection\n",
    "\n",
    "import os\n",
    "\n",
    "\n",
    "\n",
    "execution_path = os.getcwd()\n",
    "\n",
    "\n",
    "\n",
    "detector = ObjectDetection()\n",
    "\n",
    "detector.setModelTypeAsRetinaNet()\n",
    "\n",
    "detector.setModelPath( os.path.join(execution_path , \"C:/Users/p#an!/Desktop/DL/model/resnet50_coco_best_v2.0.1.h5\"))\n",
    "\n",
    "detector.loadModel()\n",
    "\n",
    "detections = detector.detectObjectsFromImage(input_image=os.path.join(execution_path , \"C:/Users/p#an!/Desktop/image.jpg\"), output_image_path=os.path.join(execution_path , \"imagenew.jpg\"))\n",
    "\n",
    "\n",
    "\n",
    "for eachObject in detections:\n",
    "\n",
    "    print(eachObject[\"name\"] , \" : \" , eachObject[\"percentage_probability\"] )"
   ]
  },
  {
   "cell_type": "code",
   "execution_count": null,
   "metadata": {},
   "outputs": [],
   "source": []
  },
  {
   "cell_type": "code",
   "execution_count": null,
   "metadata": {},
   "outputs": [],
   "source": []
  }
 ],
 "metadata": {
  "kernelspec": {
   "display_name": "Python 3",
   "language": "python",
   "name": "python3"
  },
  "language_info": {
   "codemirror_mode": {
    "name": "ipython",
    "version": 3
   },
   "file_extension": ".py",
   "mimetype": "text/x-python",
   "name": "python",
   "nbconvert_exporter": "python",
   "pygments_lexer": "ipython3",
   "version": "3.7.4"
  }
 },
 "nbformat": 4,
 "nbformat_minor": 2
}
